{
  "nbformat": 4,
  "nbformat_minor": 0,
  "metadata": {
    "colab": {
      "provenance": [],
      "authorship_tag": "ABX9TyOZ1YJO6ckcDMQ55FjIrg/u",
      "include_colab_link": true
    },
    "kernelspec": {
      "name": "python3",
      "display_name": "Python 3"
    },
    "language_info": {
      "name": "python"
    }
  },
  "cells": [
    {
      "cell_type": "markdown",
      "metadata": {
        "id": "view-in-github",
        "colab_type": "text"
      },
      "source": [
        "<a href=\"https://colab.research.google.com/github/harisgulzar1/pythonbasics/blob/main/PythonCourseLecture2.ipynb\" target=\"_parent\"><img src=\"https://colab.research.google.com/assets/colab-badge.svg\" alt=\"Open In Colab\"/></a>"
      ]
    },
    {
      "cell_type": "markdown",
      "source": [
        "Let's move towards real data analytics! 💪\n",
        "\n",
        "In this lecture we will study:\n",
        "\n",
        "*   Numerical Operations in Python (**NumPy**) \n",
        "*   Real data values (**Pandas**)\n",
        "*   Reading data from files and doing analysis.\n",
        "\n"
      ],
      "metadata": {
        "id": "O2ZSHqgFdWDD"
      }
    },
    {
      "cell_type": "markdown",
      "source": [
        "**NumPy**\n",
        "\n",
        "Advance functionalities to deal with Python arrays."
      ],
      "metadata": {
        "id": "5OrrecXWerSK"
      }
    },
    {
      "cell_type": "code",
      "execution_count": null,
      "metadata": {
        "id": "oQpiYo0YiyLx"
      },
      "outputs": [],
      "source": [
        "import numpy as np\n",
        "\n",
        "a = np.array([1, 2, 3])\n",
        "\n",
        "print(a)\n",
        "\n",
        "print(a[0])\n",
        "\n",
        "print(a[1:])\n",
        "\n",
        "print(\"Shape: \", a.shape) # built in function of Numpy array\n",
        "\n",
        "print(\"Dimension: \", a.ndim) # built in function of Numpy array"
      ]
    },
    {
      "cell_type": "code",
      "source": [
        "# 2D arrays in Numpy same as Python\n",
        "\n",
        "b = np.array([[1,2,3],\n",
        "              [4,5,6]])\n",
        "\n",
        "print(b)\n",
        "\n",
        "print(\"Shape:\", b.shape)\n",
        "print(\"Dimension:\", b.ndim)"
      ],
      "metadata": {
        "id": "Rl737TyWy7Gu"
      },
      "execution_count": null,
      "outputs": []
    },
    {
      "cell_type": "markdown",
      "source": [
        "Initializing arrays with some default values."
      ],
      "metadata": {
        "id": "iTcSlVIJe_pj"
      }
    },
    {
      "cell_type": "code",
      "source": [
        "# initialize with zeros\n",
        "\n",
        "\n",
        "a = np.zeros((2,3))\n",
        "\n",
        "a"
      ],
      "metadata": {
        "id": "W4eZnbJpz5gZ"
      },
      "execution_count": null,
      "outputs": []
    },
    {
      "cell_type": "code",
      "source": [
        "b = np.ones((2,3))\n",
        "\n",
        "b"
      ],
      "metadata": {
        "id": "ll_XUWNt0Uiz"
      },
      "execution_count": null,
      "outputs": []
    },
    {
      "cell_type": "code",
      "source": [
        "# inialize with random values\n",
        "# between 0-1 by default\n",
        "\n",
        "c = np.random.random((3,3))\n",
        "c"
      ],
      "metadata": {
        "id": "FwQmBGxt0XxO"
      },
      "execution_count": null,
      "outputs": []
    },
    {
      "cell_type": "code",
      "source": [
        "c = np.random.randint(0,5, (3,3))\n",
        "c"
      ],
      "metadata": {
        "id": "jdG4HSrx-WT3"
      },
      "execution_count": null,
      "outputs": []
    },
    {
      "cell_type": "markdown",
      "source": [
        "**Selecting dimesions of np arrays (indexing)**\n",
        "\n",
        "More flexible than simple python arrays."
      ],
      "metadata": {
        "id": "BU7GNLVt7eTg"
      }
    },
    {
      "cell_type": "code",
      "source": [
        "a_new = np.array([[1,2,3],\n",
        "                 [4,5,6],\n",
        "                 [7,8,9]])\n",
        "\n",
        "# selecting rows of 2D array\n",
        "a_rows = a_new[:,0]\n",
        "a_rows"
      ],
      "metadata": {
        "id": "YvHXyCrK5aLq"
      },
      "execution_count": null,
      "outputs": []
    },
    {
      "cell_type": "code",
      "source": [
        "# selecting columns of 2D array\n",
        "\n",
        "a_columns = a_new[0,:]\n",
        "a_columns"
      ],
      "metadata": {
        "id": "C2VnF1UK8ICJ"
      },
      "execution_count": null,
      "outputs": []
    },
    {
      "cell_type": "code",
      "source": [
        "# Make a sequence\n",
        "\n",
        "d = np.arange(3, 10, 1)\n",
        "d"
      ],
      "metadata": {
        "id": "wROGaHbT00cX"
      },
      "execution_count": null,
      "outputs": []
    },
    {
      "cell_type": "markdown",
      "source": [
        "**Numerical Operations in Python (Numpy)**"
      ],
      "metadata": {
        "id": "8rPUxFq-1u41"
      }
    },
    {
      "cell_type": "code",
      "source": [
        "a = np.array([\n",
        "    [0, 1, 2],\n",
        "    [3, 4, 5],\n",
        "    [6, 7, 8]\n",
        "])\n",
        "\n",
        "b = np.array([\n",
        "    [1, 2, 3],\n",
        "    [4, 5, 6],\n",
        "    [7, 8, 9]\n",
        "])\n",
        "\n",
        "# Addition\n",
        "\n",
        "c = a + b\n",
        "c"
      ],
      "metadata": {
        "id": "1td5XDgM1FDd"
      },
      "execution_count": null,
      "outputs": []
    },
    {
      "cell_type": "code",
      "source": [
        "# element-wise multiplication\n",
        "\n",
        "d = a*b\n",
        "d"
      ],
      "metadata": {
        "id": "YF4euFkG2JSh"
      },
      "execution_count": null,
      "outputs": []
    },
    {
      "cell_type": "code",
      "source": [
        "# element-wise division\n",
        "\n",
        "e = a/b\n",
        "e"
      ],
      "metadata": {
        "id": "cbmis3UF2aTj"
      },
      "execution_count": null,
      "outputs": []
    },
    {
      "cell_type": "code",
      "source": [
        "# Matrix Multiplications\n",
        "\n",
        "f = np.dot(a,b)\n",
        "f"
      ],
      "metadata": {
        "id": "AjY-pamX3_8s"
      },
      "execution_count": null,
      "outputs": []
    },
    {
      "cell_type": "code",
      "source": [
        "# square-root\n",
        "\n",
        "g = np.sqrt(a)\n",
        "g"
      ],
      "metadata": {
        "id": "rWKcvBSN4SsB"
      },
      "execution_count": null,
      "outputs": []
    },
    {
      "cell_type": "code",
      "source": [
        "# power\n",
        "n = 2\n",
        "h = np.power(a,n)\n",
        "h"
      ],
      "metadata": {
        "id": "SAvLXtIr4rhh"
      },
      "execution_count": null,
      "outputs": []
    },
    {
      "cell_type": "code",
      "source": [
        "# performing operations along specific dimension\n",
        "\n",
        "i = np.power(a[:,0],n)\n",
        "i"
      ],
      "metadata": {
        "id": "VqCOpkBV5Sha"
      },
      "execution_count": null,
      "outputs": []
    },
    {
      "cell_type": "code",
      "source": [
        "# multiplication with constant value\n",
        "\n",
        "a = np.arange(1,5,1)\n",
        "a"
      ],
      "metadata": {
        "id": "MjpFAPXS8pgd"
      },
      "execution_count": null,
      "outputs": []
    },
    {
      "cell_type": "code",
      "source": [
        "b = a*2\n",
        "b"
      ],
      "metadata": {
        "id": "O-9ePzsY9Oj4"
      },
      "execution_count": null,
      "outputs": []
    },
    {
      "cell_type": "code",
      "source": [
        "# broadcasting (When dimensions are not same)\n",
        "\n",
        "a1 = np.random.randint(0,5, (1,3)) \n",
        "print(a1)\n",
        "a2 = np.random.randint(0,5,(3,1))\n",
        "print(a2) "
      ],
      "metadata": {
        "id": "4H5SYuX59UDO"
      },
      "execution_count": null,
      "outputs": []
    },
    {
      "cell_type": "code",
      "source": [
        "a = a1 + a2\n",
        "a"
      ],
      "metadata": {
        "id": "8DKsJHnQ_cIw"
      },
      "execution_count": null,
      "outputs": []
    },
    {
      "cell_type": "markdown",
      "source": [
        "**Data Operations**"
      ],
      "metadata": {
        "id": "QAnWaCQl_5AU"
      }
    },
    {
      "cell_type": "code",
      "source": [
        "x = np.random.randint(0,10,(3,3))\n",
        "x"
      ],
      "metadata": {
        "id": "XpcFw5EA_2km"
      },
      "execution_count": null,
      "outputs": []
    },
    {
      "cell_type": "code",
      "source": [
        "# average of all elements\n",
        "\n",
        "x_avg = np.average(x)\n",
        "x_avg"
      ],
      "metadata": {
        "id": "Hbwnmm0wANxo"
      },
      "execution_count": null,
      "outputs": []
    },
    {
      "cell_type": "code",
      "source": [
        "# average along specific dimension\n",
        "\n",
        "x_avg = np.average(x, 0)\n",
        "x_avg"
      ],
      "metadata": {
        "id": "aERwi5epArzP"
      },
      "execution_count": null,
      "outputs": []
    },
    {
      "cell_type": "code",
      "source": [
        "# maximum value\n",
        "\n",
        "x_max = np.max(x)\n",
        "x_max"
      ],
      "metadata": {
        "id": "EjJx01dLBl1C"
      },
      "execution_count": null,
      "outputs": []
    },
    {
      "cell_type": "code",
      "source": [
        "# minimum value\n",
        "\n",
        "x_min = np.min(x)\n",
        "x_min"
      ],
      "metadata": {
        "id": "DBVnvWDLCF2G"
      },
      "execution_count": null,
      "outputs": []
    },
    {
      "cell_type": "markdown",
      "source": [
        "**Exercise** ❓\n",
        "\n",
        "Define two 2x2 randomized Numpy arrays as a1 and a2.\n",
        "\n",
        "Add first row of a1 to the second row of a2."
      ],
      "metadata": {
        "id": "jE1C3cZdChoh"
      }
    },
    {
      "cell_type": "markdown",
      "source": [
        "## **2.2 Introduction to Pandas**\n",
        "\n",
        "Pandas is enhanced versions of NumPy arrays in which the rows and columns are identified with labels rather than simple integer indices."
      ],
      "metadata": {
        "id": "o7HoP258I7w8"
      }
    },
    {
      "cell_type": "code",
      "source": [
        "# in numpy arrays we simply define data, cannot define labels\n",
        "\n",
        "import numpy as np\n",
        "\n",
        "data = np.array([0.25, 0.5, 0.75, 1.0])\n",
        "\n",
        "data"
      ],
      "metadata": {
        "id": "jinhg4bOKaD1"
      },
      "execution_count": null,
      "outputs": []
    },
    {
      "cell_type": "markdown",
      "source": [
        "### ***Series*** \n",
        "\n",
        "Data Type (Object) of Pandas"
      ],
      "metadata": {
        "id": "7v7Ta43vKJfV"
      }
    },
    {
      "cell_type": "code",
      "source": [
        "# Series data type\n",
        "\n",
        "import pandas as pd\n",
        "\n",
        "data = pd.Series([0.25, 0.5, 0.75, 1.0],\n",
        "                 index=['a', 'b', 'c', 'd'])\n",
        "data\n"
      ],
      "metadata": {
        "id": "VTS5kJWqDEO-"
      },
      "execution_count": null,
      "outputs": []
    },
    {
      "cell_type": "code",
      "source": [
        "data['a']"
      ],
      "metadata": {
        "id": "SZJe3k-bLEBc"
      },
      "execution_count": null,
      "outputs": []
    },
    {
      "cell_type": "markdown",
      "source": [
        "Almost same as Python dictionary, with much more enhanced functionalities.\n",
        "\n",
        "💡 Dictionary to Pandas Data Type"
      ],
      "metadata": {
        "id": "rOdmcBVoLOvm"
      }
    },
    {
      "cell_type": "code",
      "source": [
        "# Example of population\n",
        "\n",
        "population_dict = {'California': 38332521,\n",
        "                   'Texas': 26448193,\n",
        "                   'New York': 19651127,\n",
        "                   'Florida': 19552860,\n",
        "                   'Illinois': 12882135}\n",
        "\n",
        "population = pd.Series(population_dict)\n",
        "population"
      ],
      "metadata": {
        "id": "MwlvPJK_LH0R"
      },
      "execution_count": null,
      "outputs": []
    },
    {
      "cell_type": "markdown",
      "source": [
        "### ***DataFrame***\n",
        "\n",
        "One or multiple Series with labels.\n",
        "\n",
        "More pratical representation of dataset!"
      ],
      "metadata": {
        "id": "aVw9XyAKMNHs"
      }
    },
    {
      "cell_type": "code",
      "source": [
        "states = pd.DataFrame({'population': population})\n",
        "\n",
        "states"
      ],
      "metadata": {
        "id": "8-cGh-oCOqlf"
      },
      "execution_count": null,
      "outputs": []
    },
    {
      "cell_type": "code",
      "source": [
        "# multiple values in DataFrame\n",
        "\n",
        "area_dict = {'California': 423967,\n",
        "             'Texas': 695662,\n",
        "             'New York': 141297,\n",
        "             'Florida': 170312,\n",
        "             'Illinois': 149995}\n",
        "area = pd.Series(area_dict)\n",
        "area"
      ],
      "metadata": {
        "id": "VijmE9RdLq_f"
      },
      "execution_count": null,
      "outputs": []
    },
    {
      "cell_type": "code",
      "source": [
        "states = pd.DataFrame({'population': population,\n",
        "                       'area': area})\n",
        "states\n",
        "\n",
        "# can fill missing datas without error\n",
        "# Python and Numpy data types are very strict about dimensions"
      ],
      "metadata": {
        "id": "zUOd9YWTM4Tk"
      },
      "execution_count": null,
      "outputs": []
    },
    {
      "cell_type": "markdown",
      "source": [
        "Different functions for DataFrame object."
      ],
      "metadata": {
        "id": "sFRuWYY7htu3"
      }
    },
    {
      "cell_type": "code",
      "source": [
        "states.index"
      ],
      "metadata": {
        "id": "A4z-lezPMcHA"
      },
      "execution_count": null,
      "outputs": []
    },
    {
      "cell_type": "code",
      "source": [
        "states.columns"
      ],
      "metadata": {
        "id": "pxGD1xuqNf5t"
      },
      "execution_count": null,
      "outputs": []
    },
    {
      "cell_type": "code",
      "source": [
        "# can get individual Series from DataFrame\n",
        "\n",
        "states['area']"
      ],
      "metadata": {
        "id": "Lqm5_-YRNj82"
      },
      "execution_count": null,
      "outputs": []
    },
    {
      "cell_type": "markdown",
      "source": [
        "**Exercise** ❓\n",
        "\n",
        "Add another Series named as ***houses*** in existing DataFrame (can use any supposed values)"
      ],
      "metadata": {
        "id": "-rRakcNTUWjy"
      }
    },
    {
      "cell_type": "markdown",
      "source": [
        "### **2.3 Read data from the files.**\n",
        "\n",
        "We will use example of ***California housing dataset.***"
      ],
      "metadata": {
        "id": "5hqQocdbVQOc"
      }
    },
    {
      "cell_type": "code",
      "source": [
        "# read csv file  --> pd.read_csv\n",
        "# read excel file --> pd.read_excel\n",
        "\n",
        "\n",
        "df = pd.read_csv('sample_data/california_housing_train.csv')\n",
        "df\n",
        "\n",
        "# read from text file --> pd.read_csv\n",
        "# df = pd.read_csv('sample_data/california_housing_test.txt', sep=\"\\t\",header=None)\n",
        "df"
      ],
      "metadata": {
        "id": "x7ws2NDKVPfc"
      },
      "execution_count": null,
      "outputs": []
    },
    {
      "cell_type": "markdown",
      "source": [
        "Let's play around with our data in Python"
      ],
      "metadata": {
        "id": "TtQ_Yp9CXi_K"
      }
    },
    {
      "cell_type": "code",
      "source": [
        "# selecting series from DataFrame\n",
        "# OR, slecting columns of file\n",
        "df['population']"
      ],
      "metadata": {
        "id": "v3-UVVZdX-qv"
      },
      "execution_count": null,
      "outputs": []
    },
    {
      "cell_type": "markdown",
      "source": [
        "Performing Numerical Operations on the Data.\n",
        "\n",
        "Pandas ➕ Numpy = ✨"
      ],
      "metadata": {
        "id": "b824EI1AifxR"
      }
    },
    {
      "cell_type": "code",
      "source": [
        "# Convert Pandas Series into Numpy Array\n",
        "\n",
        "population = np.array(df['population'])\n",
        "\n",
        "population_average = np.average(population)\n",
        "\n",
        "population_average"
      ],
      "metadata": {
        "id": "LpM0c4-RY9eS"
      },
      "execution_count": null,
      "outputs": []
    },
    {
      "cell_type": "code",
      "source": [
        "print(\"The maximum per block poulation in Calforina is\", np.max(population))"
      ],
      "metadata": {
        "id": "9B3AsdFbZsOp"
      },
      "execution_count": null,
      "outputs": []
    },
    {
      "cell_type": "markdown",
      "source": [
        "***Recalling Function Defination in Python.***"
      ],
      "metadata": {
        "id": "zVEpVZMdar2Y"
      }
    },
    {
      "cell_type": "code",
      "source": [
        "def function(argument):\n",
        "  argument = argument + 1\n",
        "  return argument"
      ],
      "metadata": {
        "id": "yeBec6-Ca4-f"
      },
      "execution_count": 173,
      "outputs": []
    },
    {
      "cell_type": "code",
      "source": [
        "a = function(5)\n",
        "print(\"The value from the function is\", a)"
      ],
      "metadata": {
        "id": "OOD4OldebNq8"
      },
      "execution_count": null,
      "outputs": []
    },
    {
      "cell_type": "markdown",
      "source": [
        "**Exercise** ❓\n",
        "\n",
        "Write a function which returs **avergae value of number of people per house** from the csv file.\n",
        "\n"
      ],
      "metadata": {
        "id": "PnZU5tvUbzJz"
      }
    },
    {
      "cell_type": "code",
      "source": [
        "def analytics(file):\n",
        "  # write code under this line\n",
        "  \n",
        "  return "
      ],
      "metadata": {
        "id": "ASVtpoJlcQ3p"
      },
      "execution_count": 176,
      "outputs": []
    },
    {
      "cell_type": "code",
      "source": [
        "file = 'sample_data/california_housing_train.csv'\n",
        "\n",
        "print('The average number of people per house in California are ', analytics(file))"
      ],
      "metadata": {
        "id": "sxWWB4_ZcpS3"
      },
      "execution_count": null,
      "outputs": []
    }
  ]
}