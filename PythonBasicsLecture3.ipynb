{
  "nbformat": 4,
  "nbformat_minor": 0,
  "metadata": {
    "colab": {
      "provenance": [],
      "authorship_tag": "ABX9TyNfNnpMWzPDEcJzM1sQYzER",
      "include_colab_link": true
    },
    "kernelspec": {
      "name": "python3",
      "display_name": "Python 3"
    },
    "language_info": {
      "name": "python"
    }
  },
  "cells": [
    {
      "cell_type": "markdown",
      "metadata": {
        "id": "view-in-github",
        "colab_type": "text"
      },
      "source": [
        "<a href=\"https://colab.research.google.com/github/harisgulzar1/pythonbasics/blob/main/PythonBasicsLecture3.ipynb\" target=\"_parent\"><img src=\"https://colab.research.google.com/assets/colab-badge.svg\" alt=\"Open In Colab\"/></a>"
      ]
    },
    {
      "cell_type": "markdown",
      "source": [
        "**Lecture 3:**\n",
        "\n",
        "Data Plotting in Python! ✌\n",
        "\n",
        "**Topics:**\n",
        "\n",
        "\n",
        "*   Line Plot\n",
        "*   Bar Plot\n",
        "*   Scatter Plot\n",
        "*   Scatter Plot with more information\n",
        "*   Plotting Co-relation\n",
        "\n",
        "**Libraries:**\n",
        "\n",
        "*   Matlab Plotting Libray in Python (***matplotlib***)\n",
        "*   Adavanced Data Visualization Libraries (***seaborn***)\n",
        "\n",
        "\n",
        "\n"
      ],
      "metadata": {
        "id": "fMfn6jIEJZvT"
      }
    },
    {
      "cell_type": "code",
      "execution_count": null,
      "metadata": {
        "id": "PMDgVPMaJOTy"
      },
      "outputs": [],
      "source": [
        "# few more useful functions from pandas df\n",
        "\n",
        "import pandas as pd\n",
        "\n",
        "df = pd.read_csv('sample_data/california_housing_test.csv')\n",
        "\n",
        "df.describe()"
      ]
    },
    {
      "cell_type": "code",
      "source": [
        "df_part = df.query(\"total_rooms>3000 & total_rooms<3500\")\n",
        "\n",
        "df_part.describe()"
      ],
      "metadata": {
        "id": "AmWz8Ah3MDnT"
      },
      "execution_count": null,
      "outputs": []
    },
    {
      "cell_type": "markdown",
      "source": [
        "Group Data in chunks.\n",
        "\n",
        "**qcut** will rearrange the data and make intervals."
      ],
      "metadata": {
        "id": "HYJ7kWXJy1ir"
      }
    },
    {
      "cell_type": "code",
      "source": [
        "df_cut = pd.qcut(df[\"population\"], 50) # for Series in data frame\n",
        "\n",
        "df_cut"
      ],
      "metadata": {
        "id": "va0qvMyDenmJ"
      },
      "execution_count": null,
      "outputs": []
    },
    {
      "cell_type": "markdown",
      "source": [
        "### **3.1 Line Plot**"
      ],
      "metadata": {
        "id": "2WeUN5vjzTU7"
      }
    },
    {
      "cell_type": "code",
      "source": [
        "import numpy as np\n",
        "import matplotlib.pyplot as plt\n",
        "\n",
        "x = np.arange(1,11,1)\n",
        "y1 = np.random.randint(1,100,10)\n",
        "\n",
        "# plt.xlabel('X')\n",
        "# plt.ylabel('Y')\n",
        "\n",
        "plt.plot(x, y1)\n",
        "\n",
        "# y2 = np.random.randint(1,50, 10)\n",
        "# plt.plot(x, y2, linewidth=2, label='y2', color='r', linestyle='-.', marker='o')\n",
        "\n",
        "# plt.legend()\n",
        "\n",
        "# can change figure size\n",
        "# plt.figure(figsize=(8,8))\n",
        "\n",
        "# can change resolution\n",
        "# plt.figure(dpi=400)\n",
        "\n",
        "# plt.savefig('figure1.jpg',\n",
        "#             format='jpeg',\n",
        "#             dpi=100)"
      ],
      "metadata": {
        "id": "GAVAVPhaO6S2"
      },
      "execution_count": null,
      "outputs": []
    },
    {
      "cell_type": "markdown",
      "source": [
        "### **3.2 Bar Plot**"
      ],
      "metadata": {
        "id": "BZqRjmRXzrkK"
      }
    },
    {
      "cell_type": "code",
      "source": [
        "# Heights\n",
        "heights = np.array([7.2, 28.6, 14.6, 35.4, 42.5, 21.3, 49.5])\n",
        "\n",
        "# Define x vector\n",
        "x = np.arange(1, len(heights)+1, 1) # Easier way to get the xa value of same length\n",
        "\n",
        "plt.bar(x, heights, width=0.5, color='y')\n"
      ],
      "metadata": {
        "id": "oZ_-AgBJz93f"
      },
      "execution_count": null,
      "outputs": []
    },
    {
      "cell_type": "code",
      "source": [
        "# Heights\n",
        "heights = np.array([7.2, 28.6, 14.6, 35.4, 42.5, 21.3, 49.5])\n",
        "\n",
        "# Define x vector\n",
        "x = np.arange(1, len(heights)+1, 1) # Easier way to get the xa value of same length\n",
        "\n",
        "# divider\n",
        "y_val = 24.0\n",
        "\n",
        "# aplit the bars\n",
        "upper_bars = np.maximum((heights - y_val), 0)\n",
        "lower_bars = np.minimum(heights, y_val)\n",
        "\n",
        "# Plotting the stacked bar graph\n",
        "plt.bar(x, lower_bars, width=0.5, color='y')\n",
        "plt.bar(x, upper_bars, width=0.5, color='r', bottom=lower_bars)\n",
        "\n",
        "# Plot the divider (plot horizontal line)\n",
        "plt.axhline(y=y_val, color='b', linestyle='--', label='red line')"
      ],
      "metadata": {
        "id": "ZA92EWAWRpDv"
      },
      "execution_count": null,
      "outputs": []
    },
    {
      "cell_type": "markdown",
      "source": [
        "### **Exercise** ❓\n",
        "\n",
        "Select any series (column) from the excel file.\n",
        "\n",
        "And divide the bar graph by average value of the series."
      ],
      "metadata": {
        "id": "vZh0sg7h1whL"
      }
    },
    {
      "cell_type": "markdown",
      "source": [
        "### **3.3 Scatter Plot**\n",
        "\n",
        "Let's plot longitude and latitude from the housing data."
      ],
      "metadata": {
        "id": "jr4Z0SXy3qyR"
      }
    },
    {
      "cell_type": "code",
      "source": [
        "import matplotlib.pyplot as plt\n",
        "\n",
        "plt.figure(figsize=(15,15), dpi=120)\n",
        "\n",
        "plt.xlabel('longitude')\n",
        "plt.ylabel('latitude')\n",
        "\n",
        "plt.scatter(df[\"longitude\"],df[\"latitude\"], linewidth=1)"
      ],
      "metadata": {
        "id": "hvAIs_fCMVhs"
      },
      "execution_count": null,
      "outputs": []
    },
    {
      "cell_type": "markdown",
      "source": [
        "This is just a raw scatter plot.\n",
        "\n",
        "How can we add more information on this map! 🤔"
      ],
      "metadata": {
        "id": "Yv-8KPUY4A_P"
      }
    },
    {
      "cell_type": "code",
      "source": [
        "# Seaborn Library\n",
        "\n",
        "import seaborn as sns\n",
        "\n",
        "sns.set(rc={\"figure.figsize\":(10, 10)})\n",
        "\n",
        "sns.scatterplot(data=df,\n",
        "                x=\"longitude\",\n",
        "                y=\"latitude\",\n",
        "                hue=\"median_house_value\",\n",
        "                palette=\"rocket\")\n"
      ],
      "metadata": {
        "id": "Y6Ynqz6UgZf5"
      },
      "execution_count": null,
      "outputs": []
    },
    {
      "cell_type": "markdown",
      "source": [
        "***pallete*** is a color scheme.\n",
        "\n",
        "Can choose seaborn color schemes. [Link](https://seaborn.pydata.org/tutorial/color_palettes.html)"
      ],
      "metadata": {
        "id": "7iuDWCnq-5Bp"
      }
    },
    {
      "cell_type": "code",
      "source": [
        "sns.set(rc={\"figure.figsize\":(10, 10), 'figure.dpi': 250})\n",
        "\n",
        "sns.scatterplot(data=df,\n",
        "                x=\"longitude\",\n",
        "                y=\"latitude\",\n",
        "                size=\"median_income\",\n",
        "                hue=\"median_house_value\",\n",
        "                palette=\"rocket\")"
      ],
      "metadata": {
        "id": "u0ic7_iqqHQT"
      },
      "execution_count": null,
      "outputs": []
    },
    {
      "cell_type": "markdown",
      "source": [
        "### **3.4 Co-relation Matrix**"
      ],
      "metadata": {
        "id": "emL74wg_7NWi"
      }
    },
    {
      "cell_type": "code",
      "source": [
        "corr_mat = df[[\"housing_median_age\",\n",
        "               \"population\",\n",
        "               \"median_income\",\n",
        "               \"median_house_value\",\n",
        "               \"households\"]].corr() # Co-relation\n",
        "\n",
        "plt.subplots(figsize=(8, 8))\n",
        "\n",
        "sns.heatmap(corr_mat, square=True, annot=True, cmap=\"YlGnBu\")\n"
      ],
      "metadata": {
        "id": "eGfoO4eyqch6"
      },
      "execution_count": null,
      "outputs": []
    },
    {
      "cell_type": "markdown",
      "source": [
        "Can specify different color schemes of the heatmap.\n",
        "[Link](https://www.python-graph-gallery.com/92-control-color-in-seaborn-heatmaps)"
      ],
      "metadata": {
        "id": "rjl-OO2I-IyN"
      }
    },
    {
      "cell_type": "markdown",
      "source": [
        "### **Exercise** ❓\n",
        "\n",
        "Save the Co-relation plot using a python code.\n",
        "\n",
        "(Do a quick google search on ***saving seaborn plot in python***)"
      ],
      "metadata": {
        "id": "bVUdsvcD8HzZ"
      }
    },
    {
      "cell_type": "markdown",
      "source": [
        "### **References:**\n",
        "\n",
        "Exploring ***Pandas*** [Link](https://pandas.pydata.org/docs/getting_started/index.html)\n",
        "\n",
        "Advanced Plotting with ***Seaborn*** [Link](https://pandas.pydata.org/docs/getting_started/index.html)\n",
        "\n",
        "Example of Data Analytics with Calfornia Housing Data [Link](https://freddiek.github.io/2018/02/25/california-housing-data-exploration.html)\n",
        "\n"
      ],
      "metadata": {
        "id": "CvoKieWh_9Xz"
      }
    }
  ]
}