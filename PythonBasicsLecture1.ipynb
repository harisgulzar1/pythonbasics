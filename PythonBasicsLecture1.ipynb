{
  "nbformat": 4,
  "nbformat_minor": 0,
  "metadata": {
    "colab": {
      "provenance": [],
      "authorship_tag": "ABX9TyMJnfqSgo2uC5pAJRFo0qrg",
      "include_colab_link": true
    },
    "kernelspec": {
      "name": "python3",
      "display_name": "Python 3"
    },
    "language_info": {
      "name": "python"
    }
  },
  "cells": [
    {
      "cell_type": "markdown",
      "metadata": {
        "id": "view-in-github",
        "colab_type": "text"
      },
      "source": [
        "<a href=\"https://colab.research.google.com/github/harisgulzar1/pythonbasics/blob/main/PythonBasicsLecture1.ipynb\" target=\"_parent\"><img src=\"https://colab.research.google.com/assets/colab-badge.svg\" alt=\"Open In Colab\"/></a>"
      ]
    },
    {
      "cell_type": "markdown",
      "source": [
        "Welcome to the Basics to the Python course! 😀\n",
        "\n",
        "Your first step in becoming a Python expert. 🦾"
      ],
      "metadata": {
        "id": "mhtc7MVixVJB"
      }
    },
    {
      "cell_type": "markdown",
      "source": [
        "# **1.1 Data Types in Python**"
      ],
      "metadata": {
        "id": "0854MI4a7Id8"
      }
    },
    {
      "cell_type": "markdown",
      "source": [
        "Let's learn about basic data types in Python!\n",
        "You will mainly come across following data types in most programming languages.\n",
        "\n",
        "1.   Integer\n",
        "2.   Binary\n",
        "3.   Float\n",
        "4.   String\n",
        "\n",
        "Let's see to define these variables in Python."
      ],
      "metadata": {
        "id": "jSBcAFvjyPaK"
      }
    },
    {
      "cell_type": "code",
      "source": [
        "azam = 1\n",
        "nitesh = 2 \n",
        "\n",
        "tokyo = True\n",
        "osaka = False\n",
        "\n",
        "Weight = 67.5\n",
        "Height = 177.5\n",
        "\n",
        "profession = 'engineer'\n",
        "location = \"tokyo japan\""
      ],
      "metadata": {
        "id": "F_qv4B3LyXtQ"
      },
      "execution_count": 33,
      "outputs": []
    },
    {
      "cell_type": "markdown",
      "source": [
        "Idea 💡\n",
        "\n",
        "**A string is a list of characters**"
      ],
      "metadata": {
        "id": "HcM30EkS2avP"
      }
    },
    {
      "cell_type": "code",
      "source": [
        "# You can also add comments in your code\n",
        "\n",
        "p = profession[1]\n",
        "print(p)\n"
      ],
      "metadata": {
        "colab": {
          "base_uri": "https://localhost:8080/"
        },
        "id": "clj6tVCr19_h",
        "outputId": "fce9dabc-7960-4df5-abb7-1c200e8bf970"
      },
      "execution_count": 28,
      "outputs": [
        {
          "output_type": "stream",
          "name": "stdout",
          "text": [
            "n\n"
          ]
        }
      ]
    },
    {
      "cell_type": "code",
      "source": [
        "print(len(location))"
      ],
      "metadata": {
        "colab": {
          "base_uri": "https://localhost:8080/"
        },
        "id": "0D7riuQJIKRQ",
        "outputId": "1966f52d-088d-4e5d-a11b-a0fe05dbe1bd"
      },
      "execution_count": 29,
      "outputs": [
        {
          "output_type": "stream",
          "name": "stdout",
          "text": [
            "5\n"
          ]
        }
      ]
    },
    {
      "cell_type": "markdown",
      "source": [
        "A list can contain variables of any types.\n",
        "\n",
        "Let's define a list of integers."
      ],
      "metadata": {
        "id": "p_YYAMRD23vG"
      }
    },
    {
      "cell_type": "code",
      "source": [
        "my_list = [0, 1, 3, 4]\n",
        "\n",
        "print(my_list[1])\n",
        "print(my_list[1:])\n",
        "\n",
        "# Index in Python always starts with zero\n",
        "\n",
        "print(len(my_list))"
      ],
      "metadata": {
        "colab": {
          "base_uri": "https://localhost:8080/"
        },
        "id": "Yf7ioKNs2zgK",
        "outputId": "61724382-40f1-4294-e714-65ea10dec982"
      },
      "execution_count": 1,
      "outputs": [
        {
          "output_type": "stream",
          "name": "stdout",
          "text": [
            "1\n",
            "[1, 3, 4]\n",
            "4\n"
          ]
        }
      ]
    },
    {
      "cell_type": "markdown",
      "source": [
        "Idea 💡\n",
        "\n",
        "**how about list of a list?**"
      ],
      "metadata": {
        "id": "jJ0SdJtm3vws"
      }
    },
    {
      "cell_type": "code",
      "source": [
        "list1 = [0,1,2]\n",
        "list2 = [1,2,3]\n",
        "list3 = [3,3,4]\n",
        "\n",
        "\n",
        "mylist = [list1, list2, list3]\n",
        "\n",
        "print(mylist[0][0])"
      ],
      "metadata": {
        "colab": {
          "base_uri": "https://localhost:8080/"
        },
        "id": "Pi48wdoK3-BX",
        "outputId": "0202f006-a7ba-47d9-a218-ed89df001498"
      },
      "execution_count": 9,
      "outputs": [
        {
          "output_type": "stream",
          "name": "stdout",
          "text": [
            "0\n"
          ]
        }
      ]
    },
    {
      "cell_type": "markdown",
      "source": [
        "That is more like a 2D array!"
      ],
      "metadata": {
        "id": "gju_ekka4u_E"
      }
    },
    {
      "cell_type": "code",
      "source": [
        "array = [[0,1,2],[3,4,5],[6,7,8]]"
      ],
      "metadata": {
        "id": "PLZf25xf41Uv"
      },
      "execution_count": 12,
      "outputs": []
    },
    {
      "cell_type": "markdown",
      "source": [
        "**Exercise** **❓**\n",
        "\n",
        "Define a 3D array of size 2x2x2"
      ],
      "metadata": {
        "id": "J5VPgWH36UhL"
      }
    },
    {
      "cell_type": "markdown",
      "source": [
        "**`Dictionary Data Type`**\n",
        "\n",
        "A very diverse data type."
      ],
      "metadata": {
        "id": "A_8wHSUj74zy"
      }
    },
    {
      "cell_type": "code",
      "source": [
        "university = {\"name\": \"SIT\", \"year\": 1945, \"public\": True}\n",
        "\n",
        "# A list with values of any data type and index and keys.\n",
        "\n",
        "print(university[\"public\"])"
      ],
      "metadata": {
        "colab": {
          "base_uri": "https://localhost:8080/"
        },
        "id": "fTFdkS2n8hav",
        "outputId": "d2e6a081-c724-42c3-c7c2-abc8b772ca27"
      },
      "execution_count": 14,
      "outputs": [
        {
          "output_type": "stream",
          "name": "stdout",
          "text": [
            "True\n"
          ]
        }
      ]
    },
    {
      "cell_type": "markdown",
      "source": [
        "The magic of print statement. ⭐"
      ],
      "metadata": {
        "id": "U6_rriPo9WXs"
      }
    },
    {
      "cell_type": "code",
      "source": [
        "print(\"The\", university[\"name\"], \"was established in \", university['year'])"
      ],
      "metadata": {
        "id": "ZSFNqVmV9oYy"
      },
      "execution_count": null,
      "outputs": []
    },
    {
      "cell_type": "markdown",
      "source": [
        "# **1.2 Logics**\n",
        "\n",
        "Programming is a tool to execute logics on computer.\n",
        "\n",
        "What is the simplest logic you can think of?"
      ],
      "metadata": {
        "id": "0AxzlZY_-9JZ"
      }
    },
    {
      "cell_type": "markdown",
      "source": [
        "# **IF**"
      ],
      "metadata": {
        "id": "QiGa8uptFFZd"
      }
    },
    {
      "cell_type": "code",
      "source": [
        "window = \"open\"\n",
        "light = False\n",
        "\n",
        "\n",
        "if window == \"open\":\n",
        "  light = True\n",
        "else:\n",
        "  light = False\n",
        "\n",
        "print(light)"
      ],
      "metadata": {
        "colab": {
          "base_uri": "https://localhost:8080/"
        },
        "id": "BonaoKpJB5qC",
        "outputId": "a07fbd03-a15d-4386-b131-4e8c2232f114"
      },
      "execution_count": 16,
      "outputs": [
        {
          "output_type": "stream",
          "name": "stdout",
          "text": [
            "True\n"
          ]
        }
      ]
    },
    {
      "cell_type": "markdown",
      "source": [],
      "metadata": {
        "id": "hApi0LEcEvjK"
      }
    },
    {
      "cell_type": "code",
      "source": [
        "price = 100\n",
        "\n",
        "\n",
        "if price < 50:\n",
        "  print(\"Will not buy\")\n",
        "elif 50 < price <= 100:   #Else IF\n",
        "  print(\"Will think\")\n",
        "else:\n",
        "  print(\"Will not buy\")\n",
        "\n",
        "# What will be printed?"
      ],
      "metadata": {
        "colab": {
          "base_uri": "https://localhost:8080/"
        },
        "id": "C35doNauDb4I",
        "outputId": "dca92403-cf1f-4f40-a69b-8621cc525fca"
      },
      "execution_count": 18,
      "outputs": [
        {
          "output_type": "stream",
          "name": "stdout",
          "text": [
            "Will think\n"
          ]
        }
      ]
    },
    {
      "cell_type": "markdown",
      "source": [
        "# **LOOP**\n",
        "\n",
        "Think of an example of a loop."
      ],
      "metadata": {
        "id": "R01TcEdMFLOm"
      }
    },
    {
      "cell_type": "code",
      "source": [
        "import time #Library of Python (Python has unlimted number of libraries)\n",
        "\n",
        "for i in range(10):\n",
        "  time.sleep(1)           # built in function of a library\n",
        "  print(i)"
      ],
      "metadata": {
        "colab": {
          "base_uri": "https://localhost:8080/"
        },
        "id": "yaroj8EHFCOy",
        "outputId": "bb5d3d88-8805-4b32-e650-51eafdab3b4b"
      },
      "execution_count": 26,
      "outputs": [
        {
          "output_type": "stream",
          "name": "stdout",
          "text": [
            "0\n",
            "1\n",
            "2\n",
            "3\n",
            "4\n",
            "5\n",
            "6\n",
            "7\n",
            "8\n",
            "9\n"
          ]
        }
      ]
    },
    {
      "cell_type": "markdown",
      "source": [
        "**Exercise** ❓\n",
        "\n",
        "**Print True if a word has a letter 'a' in it, else print False!**"
      ],
      "metadata": {
        "id": "gPDS4gQSHpjq"
      }
    },
    {
      "cell_type": "markdown",
      "source": [
        "# **1.3 Functions**\n",
        "\n",
        "It wraps a part of a program logic.\n",
        "\n",
        "Think of a common function.\n",
        "\n",
        "# **y  = f (x)**\n",
        "\n",
        "x is argument.\n",
        "\n",
        "y is retuen value."
      ],
      "metadata": {
        "id": "3qj9MpNiIisU"
      }
    },
    {
      "cell_type": "markdown",
      "source": [
        "Function: Convert Farehnhite into Celsius.  "
      ],
      "metadata": {
        "id": "zHtjdK5NJZQF"
      }
    },
    {
      "cell_type": "code",
      "source": [
        "def converter(f_temp):\n",
        "\n",
        "  f_temp = 5/9*f_temp - 32\n",
        "  return f_temp\n",
        "\n"
      ],
      "metadata": {
        "id": "15AbC7LXI8Zs"
      },
      "execution_count": 31,
      "outputs": []
    },
    {
      "cell_type": "code",
      "source": [
        "print(converter(90))"
      ],
      "metadata": {
        "colab": {
          "base_uri": "https://localhost:8080/"
        },
        "id": "5pVuKjy5M7cI",
        "outputId": "d4230152-c5c2-47be-b04b-57cff13079a7"
      },
      "execution_count": 32,
      "outputs": [
        {
          "output_type": "stream",
          "name": "stdout",
          "text": [
            "18.0\n"
          ]
        }
      ]
    },
    {
      "cell_type": "markdown",
      "source": [
        "### **Exercise** ❓\n",
        "\n",
        "**Write a function to find number of spaces in a sentence.**"
      ],
      "metadata": {
        "id": "kuP2C6TxNrNM"
      }
    },
    {
      "cell_type": "code",
      "source": [],
      "metadata": {
        "id": "yKHI2v81N714"
      },
      "execution_count": 33,
      "outputs": []
    }
  ]
}